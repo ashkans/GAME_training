{
 "cells": [
  {
   "cell_type": "code",
   "execution_count": 1,
   "metadata": {},
   "outputs": [],
   "source": [
    "# import modules\n",
    "from GAME.assignment import Assignment\n",
    "from os.path import join\n",
    "import os, sys, time, yaml, csv\n"
   ]
  },
  {
   "cell_type": "code",
   "execution_count": 2,
   "metadata": {},
   "outputs": [],
   "source": [
    "settingsFile = sys.argv[1]\n",
    "settingsFile = r'training_data/settings.yaml'\n"
   ]
  },
  {
   "cell_type": "code",
   "execution_count": 3,
   "metadata": {},
   "outputs": [
    {
     "ename": "SyntaxError",
     "evalue": "invalid syntax (<ipython-input-3-df4176ebee8d>, line 1)",
     "output_type": "error",
     "traceback": [
      "\u001b[1;36m  File \u001b[1;32m\"<ipython-input-3-df4176ebee8d>\"\u001b[1;36m, line \u001b[1;32m1\u001b[0m\n\u001b[1;33m    with open(, 'r') as file:\u001b[0m\n\u001b[1;37m              ^\u001b[0m\n\u001b[1;31mSyntaxError\u001b[0m\u001b[1;31m:\u001b[0m invalid syntax\n"
     ]
    }
   ],
   "source": [
    "with open(settingsFile, 'r') as file:\n",
    "    settings = yaml.load(file)\n",
    "    \n",
    "    \n",
    "# setting the path of question data base\n",
    "questionDataBase = settings['questionDataBase']\n",
    "# seetin the path for the outputs (question pdf)\n",
    "outputDirectory = settings['outputDirectory']\n",
    "# the assignment number, to be shown in the pdfs\n",
    "assignmentNum = settings['assignmentNum']\n",
    "# name \n",
    "title = settings['assignmnetTitle']\n",
    "\n",
    "with open(settings['studentIDListFile']) as csvfile:\n",
    "    readCSV = csv.reader(csvfile, delimiter=',')\n",
    "    studentIDList = [r[0] for r in readCSV]\n",
    "\n",
    "\n",
    "# the questions are using some helper functions which are located in the path of Question_DB, so they should be accessible:\n",
    "sys.path.append(join(questionDataBase))"
   ]
  },
  {
   "cell_type": "code",
   "execution_count": 14,
   "metadata": {},
   "outputs": [
    {
     "name": "stdout",
     "output_type": "stream",
     "text": [
      "Tex file is generated!\n",
      "Tex file is generated!\n",
      "Tex file is generated!\n",
      "Tex file is generated!\n",
      "Tex file is generated!\n",
      "Tex file is generated!\n",
      "Tex file is generated!\n",
      "Tex file is generated!\n",
      "Tex file is generated!\n",
      "Tex file is generated!\n"
     ]
    }
   ],
   "source": [
    "# maek sure that the output_dir exists and make the output file name\n",
    "A_dir = join(outputDirectory,'Assignment_%s' % assignmentNum)\n",
    "\n",
    "for sid in studentIDList:\n",
    "    output_path = join(A_dir, 'A%d_%s' % (assignmentNum, sid))\n",
    "    if not os.path.isdir(output_path):\n",
    "        os.makedirs(output_path)\n",
    "\n",
    "\n",
    "    # initialize the assignment class\n",
    "    assignment1 = Assignment(questionDataBase, Qlist,name=title ,assignment_num=assignmentNum, studentID=sid)\n",
    "\n",
    "    # generate the questions\n",
    "    assignment1.generate_question_list()\n",
    "\n",
    "    # save input files (is needed for marking)\n",
    "    assignment1.save_input_files(output_path)\n",
    "\n",
    "    # save save tex file1\n",
    "    assignment1.make_assignment_pdf(join(output_path,'Assignment%d_%s.pdf'% (assignmentNum, sid)))\n",
    "\n",
    "    # save assignment\n",
    "    assignment1.save(join(output_path,'Assignment_class.yml'))\n"
   ]
  },
  {
   "cell_type": "code",
   "execution_count": null,
   "metadata": {},
   "outputs": [],
   "source": []
  }
 ],
 "metadata": {
  "kernelspec": {
   "display_name": "Python 3",
   "language": "python",
   "name": "python3"
  },
  "language_info": {
   "codemirror_mode": {
    "name": "ipython",
    "version": 3
   },
   "file_extension": ".py",
   "mimetype": "text/x-python",
   "name": "python",
   "nbconvert_exporter": "python",
   "pygments_lexer": "ipython3",
   "version": "3.7.6"
  }
 },
 "nbformat": 4,
 "nbformat_minor": 2
}
