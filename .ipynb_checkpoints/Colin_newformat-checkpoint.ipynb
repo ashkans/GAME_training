{
 "cells": [
  {
   "cell_type": "code",
   "execution_count": 7,
   "metadata": {},
   "outputs": [],
   "source": [
    "import sys\n",
    "Question_DB = r\"C:\\Users\\ashkans\\Documents\\git\\GAME_database\"\n",
    "sys.path.append(Question_DB)\n",
    "from helpers.ps2 import solve_D, eleK, eleF, d_CD, d_CE, d_CF, d_GC, d_CG\n",
    "import random"
   ]
  },
  {
   "cell_type": "code",
   "execution_count": 8,
   "metadata": {},
   "outputs": [],
   "source": [
    "def input_maker(file_path):\n",
    "    L_list = [4.0, 3.8, 5]  # m\n",
    "    M_list = [-76, -30, -50]\t# kNm\n",
    "    I = 37.5e-6 \t# m4\n",
    "    J = 75e-6   \t# m4\n",
    "    E = 200     \t# GPa\n",
    "    G = 80      \t# GPa\n",
    "    \n",
    "    # Unit conversions MNm2\n",
    "    E *= 1e3\n",
    "    G *= 1e3\n",
    "    \n",
    "    L = random.choice(L_list) \t\t# Member length\n",
    "    M = random.choice(M_list) \t\t# y-axis moment load @ C\n",
    "    \n",
    "    grid = [L,I,J,E,G,M]\n",
    "    \n",
    "    EI_L = E*I/L\n",
    "    GJ_L = G*J/L\n",
    "    \n",
    "    # Call analysis\n",
    "    D = solve_D(grid)\n",
    "    theta_C, theta_D, theta_F = D\n",
    "    Fcd = eleF(eleK(grid),d_CD(D)*1e3)\n",
    "    Fce = eleF(eleK(grid),d_CE(D)*1e3)\n",
    "    Fcf = eleF(eleK(grid),d_CF(D)*1e3)\n",
    "    Fgc = eleF(eleK(grid),d_GC(D)*1e3)\n",
    "    Fcg = eleF(eleK(grid),d_CG(D)*1e3)\n",
    "    \n",
    "    bmd_scale=8\n",
    "    tmd_scale=5\n",
    "    \n",
    "    varList = ['I', 'J', 'E', 'G', 'L', 'M', 'D', 'Fcd', 'Fce', 'Fcf', 'Fgc', 'Fcg', 'bmd_scale', 'tmd_scale']\n",
    "    loc=locals()\n",
    "    inputs =dict([(i, loc[i]) for i in varList])\n",
    "    \n",
    "    return inputs"
   ]
  },
  {
   "cell_type": "code",
   "execution_count": 9,
   "metadata": {},
   "outputs": [
    {
     "data": {
      "text/plain": [
       "{'I': 3.75e-05,\n",
       " 'J': 7.5e-05,\n",
       " 'E': 200000.0,\n",
       " 'G': 80000.0,\n",
       " 'L': 3.8,\n",
       " 'M': -76,\n",
       " 'D': array([-0.00506667,  0.00253333,  0.00253333]),\n",
       " 'Fcd': array([  0., -30.,   0.,   0.]),\n",
       " 'Fce': array([-8.,  0.,  8.,  0.]),\n",
       " 'Fcf': array([  0., -30.,   0.,   0.]),\n",
       " 'Fgc': array([ 8.,  0., -8.,  0.]),\n",
       " 'Fcg': array([-8.,  0.,  8.,  0.]),\n",
       " 'bmd_scale': 8,\n",
       " 'tmd_scale': 5}"
      ]
     },
     "execution_count": 9,
     "metadata": {},
     "output_type": "execute_result"
    }
   ],
   "source": [
    "input_maker('')"
   ]
  },
  {
   "cell_type": "code",
   "execution_count": null,
   "metadata": {},
   "outputs": [],
   "source": []
  }
 ],
 "metadata": {
  "kernelspec": {
   "display_name": "Python 3",
   "language": "python",
   "name": "python3"
  },
  "language_info": {
   "codemirror_mode": {
    "name": "ipython",
    "version": 3
   },
   "file_extension": ".py",
   "mimetype": "text/x-python",
   "name": "python",
   "nbconvert_exporter": "python",
   "pygments_lexer": "ipython3",
   "version": "3.7.4"
  }
 },
 "nbformat": 4,
 "nbformat_minor": 2
}
