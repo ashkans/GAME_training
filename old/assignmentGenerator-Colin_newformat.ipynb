{
 "cells": [
  {
   "cell_type": "code",
   "execution_count": 7,
   "metadata": {},
   "outputs": [],
   "source": [
    "# import modules\n",
    "from GAME.assignment import Assignment\n",
    "from os.path import join\n",
    "import os\n",
    "import sys\n",
    "import time\n"
   ]
  },
  {
   "cell_type": "code",
   "execution_count": 8,
   "metadata": {},
   "outputs": [],
   "source": [
    "# setting the path of question data base\n",
    "Question_DB = r\"C:\\Users\\ashkans\\Documents\\git\\GAME_database\"\n",
    "\n",
    "# seetin the path for the outputs (question pdf)\n",
    "output_dir = r\"C:\\Users\\ashkans\\Documents\\git\\GAME_test_output\"\n",
    "\n",
    "# the questions are using some helper functions which are located in the path of Question_DB, so they should be accessible:\n",
    "sys.path.append(join(Question_DB))"
   ]
  },
  {
   "cell_type": "code",
   "execution_count": 9,
   "metadata": {},
   "outputs": [],
   "source": [
    "# student id, this could be loaded from a file\n",
    "sid = '00000'\n",
    "\n",
    "# the assignment number, to be shown in the pdfs\n",
    "assignment_num = 1\n",
    "\n",
    "# set the list of question from question database to be used\n",
    "Qlist = ['Colin_newformat'] \n",
    "\n",
    "# name \n",
    "title = 'Week 1'"
   ]
  },
  {
   "cell_type": "code",
   "execution_count": 12,
   "metadata": {},
   "outputs": [],
   "source": [
    "# maek sure that the output_dir exists and make the output file name\n",
    "A_dir = join(output_dir,'Assignment_%s' % assignment_num)\n",
    "output_path = join(A_dir, 'A%d_%s' % (assignment_num, sid))\n",
    "if not os.path.isdir(output_path):\n",
    "    os.makedirs(output_path)\n",
    "\n",
    "    \n",
    "# initialize the assignment class\n",
    "assignment1 = Assignment(Question_DB, Qlist,name=title ,assignment_num=assignment_num-1)\n",
    "\n",
    "# generate the questions\n",
    "assignment1.generate_question_list()\n",
    "\n",
    "# save input files (is needed for marking)\n",
    "assignment1.save_input_files(output_path)\n",
    "\n",
    "# save save tex file\n",
    "#TODO this should be fixed in a way that you can specify the header you want.\n",
    "###assignment1.make_assignment_pdf(join(output_path,'Assignment%d.pdf'%assignment_num))\n",
    "\n",
    "# save assignment\n",
    "assignment1.save(join(output_path,'Assignment_class.yml'))"
   ]
  },
  {
   "cell_type": "code",
   "execution_count": 13,
   "metadata": {},
   "outputs": [
    {
     "name": "stdout",
     "output_type": "stream",
     "text": [
      "\\documentclass{monashbrief}\n",
      "\n",
      "\\input{./ps_preamble}\n",
      "\n",
      "\\includecomment{hidden}\t% Include text within the \"hidden\" environment\n",
      "%\\excludecomment{hidden}\t\t% Exclude text in the \"hidden\" environment\n",
      "\n",
      "\\usepackage{float}\n",
      "\\usepackage{stanli}\n",
      "\\usepackage{tikz}\n",
      "\\usetikzlibrary{arrows.meta,arrows,positioning}\n",
      "\\usepackage{ifthen}\n",
      "\\usepackage{adjustbox}\n",
      "\n",
      "\\unit{CIV4280 Bridge Design \\& Assessment}\n",
      "\\title{Problem Set 2 - Direct Stiffness Method}\n",
      "\\date{Semester 1, 2020}\n",
      "\\author{Dr Colin Caprani\\\\Dr Mayer Melhem}\n",
      "\n",
      "\\begin{document}\n",
      "\t\n",
      "% First Page\n",
      "\\maketitle\n",
      "\\thispagestyle{fancy}\n",
      "\n",
      "\\begin{abstract}\n",
      "\tThis Problem Set explores the topic of direct stiffness method. Familiarity with identifying unknown degrees of freedom, following the step-by-step procedure, and drawing bending moment and torsion moment diagram are necessary. This topic contributes to unit Learning Outcome 3: \\textit{Determine the structural behaviour of various bridge types quantitatively and qualitatively using relevant hand- and computer-based methods}. By being competent at analysing simple structures by hand using the stiffness method, you will be better placed to correctly use and understand the output of computer analyses of more complex models.\n",
      "\\end{abstract}\n",
      "\n",
      "{\\sf\\tighttoc}\n",
      "\\newpage\n",
      "\n",
      "\\section{Tutorial Problem}\n",
      "\\textbf{This problem is graded 100\\%}\n",
      "\n",
      "\n",
      "The symmetric grillage shown in \\Cref{fig:grid} has fixed ends at \\emph{E} and \\emph{G} and\n",
      "pinned ends at \\emph{D} and \\emph{F}. Material and geometric properties are the same for all members: \n",
      "\n",
      "Using the direct stiffness method, show the rotation at $F$ is 1.0000000000000002~mrad when the applied $M = 30$~kNm. \n",
      "\n",
      "Draw the resulting bending and torsion moment diagrams for the applied load shown in \\Cref{fig:grid}.\n",
      "\n",
      "\\begin{itemize} %these should be appropritately randomized \n",
      "\t\\item $L = 3800$ mm\n",
      "\t\\item $I = 37500000.0$ mm$^4$\n",
      "\t\\item $J = 75000000.0$ mm$^4$\n",
      "\t\\item $E = 200$ GPa\n",
      "\t\\item $G = 80$ GPa\n",
      "\\end{itemize}\n",
      "\n",
      "\t\n",
      "\\end{hidden}\n",
      "\\end{document}\n",
      "\n",
      "\n",
      "\n"
     ]
    }
   ],
   "source": [
    "print(assignment1.condolidate_tex()[2])"
   ]
  },
  {
   "cell_type": "code",
   "execution_count": 6,
   "metadata": {},
   "outputs": [
    {
     "name": "stdout",
     "output_type": "stream",
     "text": [
      "Tex file is generated!\n"
     ]
    }
   ],
   "source": [
    "\n",
    "# save input files (is needed for marking)\n",
    "assignment1.save_input_files(output_path)\n",
    "\n",
    "# save save tex file\n",
    "assignment1.make_assignment_pdf(join(output_path,'Assignment%d.pdf'%assignment_num))\n",
    "\n",
    "# save assignment\n",
    "assignment1.save(join(output_path,'Assignment_class.yml'))\n",
    "    "
   ]
  }
 ],
 "metadata": {
  "kernelspec": {
   "display_name": "Python 3",
   "language": "python",
   "name": "python3"
  },
  "language_info": {
   "codemirror_mode": {
    "name": "ipython",
    "version": 3
   },
   "file_extension": ".py",
   "mimetype": "text/x-python",
   "name": "python",
   "nbconvert_exporter": "python",
   "pygments_lexer": "ipython3",
   "version": "3.7.4"
  }
 },
 "nbformat": 4,
 "nbformat_minor": 2
}
