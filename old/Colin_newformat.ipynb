{
 "cells": [
  {
   "cell_type": "code",
   "execution_count": 1,
   "metadata": {},
   "outputs": [],
   "source": [
    "import sys\n",
    "Question_DB = r\"C:\\Users\\ashkans\\Documents\\git\\GAME_database\"\n",
    "sys.path.append(Question_DB)\n",
    "from helpers.ps2 import *\n",
    "import random"
   ]
  },
  {
   "cell_type": "code",
   "execution_count": 2,
   "metadata": {},
   "outputs": [],
   "source": [
    "def input_maker(file_path):\n",
    "    L_list = [4.0, 3.8, 5]  # m\n",
    "    M_list = [-76, -30, -50]\t# kNm\n",
    "    I = 37.5e-6 \t# m4\n",
    "    J = 75e-6   \t# m4\n",
    "    E = 200     \t# GPa\n",
    "    G = 80      \t# GPa\n",
    "    \n",
    "    # Unit conversions MNm2\n",
    "    E *= 1e3\n",
    "    G *= 1e3\n",
    "    \n",
    "    L = random.choice(L_list) \t\t# Member length\n",
    "    M = random.choice(M_list) \t\t# y-axis moment load @ C\n",
    "    \n",
    "    grid = [L,I,J,E,G,M]\n",
    "    \n",
    "    EI_L = E*I/L\n",
    "    GJ_L = G*J/L\n",
    "    \n",
    "    # Call analysis\n",
    "    D = solve_D(grid)\n",
    "    theta_C, theta_D, theta_F = D\n",
    "    Fcd = eleF(eleK(grid),d_CD(D)*1e3)\n",
    "    Fce = eleF(eleK(grid),d_CE(D)*1e3)\n",
    "    Fcf = eleF(eleK(grid),d_CF(D)*1e3)\n",
    "    Fgc = eleF(eleK(grid),d_GC(D)*1e3)\n",
    "    Fcg = eleF(eleK(grid),d_CG(D)*1e3)\n",
    "    \n",
    "    bmd_scale=8\n",
    "    tmd_scale=5\n",
    "    \n",
    "    varList = ['I', 'J', 'E', 'G', 'L', 'M', 'D', 'theta_C', 'theta_D', 'theta_F', 'Fcd', 'Fce', 'Fcf', 'Fgc', 'Fcg', 'bmd_scale', 'tmd_scale']\n",
    "    loc=locals()\n",
    "    inputs =dict([(i, loc[i]) for i in varList])\n",
    "    \n",
    "    return inputs"
   ]
  },
  {
   "cell_type": "code",
   "execution_count": 3,
   "metadata": {},
   "outputs": [],
   "source": [
    "inputs = input_maker('')"
   ]
  },
  {
   "cell_type": "code",
   "execution_count": 14,
   "metadata": {},
   "outputs": [],
   "source": [
    "texToBeREplaced={'<<1>>': inputs['theta_F']*1e3,\n",
    "                '<<2>>' : -inputs['M'],\n",
    "                '<<3>>' : int(inputs['L']*1e3),\n",
    "                '<<4>>' : inputs['I']*1e12,\n",
    "                '<<5>>' : inputs['J']*1e12,\n",
    "                '<<6>>' : int(inputs['E']/1e3),\n",
    "                '<<7>>' : int(inputs['G']/1e3)}\n",
    "f = open(r'C:\\Users\\ashkans\\Documents\\git\\GAME_database\\Colin_newformat\\files\\main.tex', \"r\")\n",
    "tex = f.read()\n",
    "for k, v in texToBeREplaced.items():\n",
    "    print(k, v)\n",
    "    tex.replace(k, str(v))\n",
    "    "
   ]
  },
  {
   "cell_type": "code",
   "execution_count": 15,
   "metadata": {},
   "outputs": [
    {
     "name": "stdout",
     "output_type": "stream",
     "text": [
      "<<1>> 1.7543859649122813\n",
      "<<2>> 50\n",
      "<<3>> 4000\n",
      "<<4>> 37500000.0\n",
      "<<5>> 75000000.0\n",
      "<<6>> 200\n",
      "<<7>> 80\n"
     ]
    }
   ],
   "source": []
  },
  {
   "cell_type": "code",
   "execution_count": 16,
   "metadata": {},
   "outputs": [
    {
     "data": {
      "text/plain": [
       "'\\\\documentclass{monashbrief}\\n\\n\\\\input{./ps_preamble}\\n\\n\\\\includecomment{hidden}\\t% Include text within the \"hidden\" environment\\n%\\\\excludecomment{hidden}\\t\\t% Exclude text in the \"hidden\" environment\\n\\n\\\\usepackage{float}\\n\\\\usepackage{stanli}\\n\\\\usepackage{tikz}\\n\\\\usetikzlibrary{arrows.meta,arrows,positioning}\\n\\\\usepackage{ifthen}\\n\\\\usepackage{adjustbox}\\n\\n\\\\unit{CIV4280 Bridge Design \\\\& Assessment}\\n\\\\title{Problem Set 2 - Direct Stiffness Method}\\n\\\\date{Semester 1, 2020}\\n\\\\author{Dr Colin Caprani\\\\\\\\Dr Mayer Melhem}\\n\\n\\\\begin{document}\\n\\t\\n% First Page\\n\\\\maketitle\\n\\\\thispagestyle{fancy}\\n\\n\\\\begin{abstract}\\n\\tThis Problem Set explores the topic of direct stiffness method. Familiarity with identifying unknown degrees of freedom, following the step-by-step procedure, and drawing bending moment and torsion moment diagram are necessary. This topic contributes to unit Learning Outcome 3: \\\\textit{Determine the structural behaviour of various bridge types quantitatively and qualitatively using relevant hand- and computer-based methods}. By being competent at analysing simple structures by hand using the stiffness method, you will be better placed to correctly use and understand the output of computer analyses of more complex models.\\n\\\\end{abstract}\\n\\n{\\\\sf\\\\tighttoc}\\n\\\\newpage\\n\\n\\\\section{Tutorial Problem}\\n\\\\textbf{This problem is graded 100\\\\%}\\n\\n\\nThe symmetric grillage shown in \\\\Cref{fig:grid} has fixed ends at \\\\emph{E} and \\\\emph{G} and\\npinned ends at \\\\emph{D} and \\\\emph{F}. Material and geometric properties are the same for all members: \\n\\nUsing the direct stiffness method, show the rotation at $F$ is <<1>>~mrad when the applied $M = <<2>>$~kNm. \\n\\nDraw the resulting bending and torsion moment diagrams for the applied load shown in \\\\Cref{fig:grid}.\\n\\n\\\\begin{itemize} %these should be appropritately randomized \\n\\t\\\\item $L = <<3>>$ mm\\n\\t\\\\item $I = <<4>>$ mm$^4$\\n\\t\\\\item $J = <<5>>$ mm$^4$\\n\\t\\\\item $E = <<6>>$ GPa\\n\\t\\\\item $G = <<7>>$ GPa\\n\\\\end{itemize}\\n\\n\\t\\n\\\\end{hidden}\\n\\\\end{document}\\n\\n\\n'"
      ]
     },
     "execution_count": 16,
     "metadata": {},
     "output_type": "execute_result"
    }
   ],
   "source": [
    "tex"
   ]
  },
  {
   "cell_type": "code",
   "execution_count": null,
   "metadata": {},
   "outputs": [],
   "source": []
  }
 ],
 "metadata": {
  "kernelspec": {
   "display_name": "Python 3",
   "language": "python",
   "name": "python3"
  },
  "language_info": {
   "codemirror_mode": {
    "name": "ipython",
    "version": 3
   },
   "file_extension": ".py",
   "mimetype": "text/x-python",
   "name": "python",
   "nbconvert_exporter": "python",
   "pygments_lexer": "ipython3",
   "version": "3.7.4"
  }
 },
 "nbformat": 4,
 "nbformat_minor": 2
}
