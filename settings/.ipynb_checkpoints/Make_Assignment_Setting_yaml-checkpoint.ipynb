{
 "cells": [
  {
   "cell_type": "code",
   "execution_count": 11,
   "metadata": {},
   "outputs": [],
   "source": [
    "import yaml\n",
    "import os\n",
    "from os.path import join\n",
    "settings = {}"
   ]
  },
  {
   "cell_type": "code",
   "execution_count": 12,
   "metadata": {},
   "outputs": [],
   "source": [
    "settings['studentIDListFile'] = 'studentIDList.csv'\n",
    "settings['assignmnetTitle'] = 'Week 1'\n",
    "settings['assignmentNum'] = 1\n",
    "settings['questionList'] = ['A1Q1']\n",
    "settings['questionDataBase'] = join(os.path.dirname(os.getcwd()), \"GAME_database\")\n",
    "settings['outputDirectory'] = \"C:\\\\Users\\\\ashkans\\\\Documents\\\\git\\\\GAME_output\""
   ]
  },
  {
   "cell_type": "code",
   "execution_count": 13,
   "metadata": {},
   "outputs": [],
   "source": [
    "with open('settings\\\\settings.yaml', 'w') as file:\n",
    "    documents = yaml.dump(settings, file)"
   ]
  }
 ],
 "metadata": {
  "kernelspec": {
   "display_name": "Python 3",
   "language": "python",
   "name": "python3"
  },
  "language_info": {
   "codemirror_mode": {
    "name": "ipython",
    "version": 3
   },
   "file_extension": ".py",
   "mimetype": "text/x-python",
   "name": "python",
   "nbconvert_exporter": "python",
   "pygments_lexer": "ipython3",
   "version": "3.7.6"
  }
 },
 "nbformat": 4,
 "nbformat_minor": 4
}
