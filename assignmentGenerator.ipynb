{
 "cells": [
  {
   "cell_type": "code",
   "execution_count": 5,
   "metadata": {},
   "outputs": [],
   "source": [
    "# import modules\n",
    "from GAME.assignment import Assignment\n",
    "from os.path import join\n",
    "import os\n",
    "import sys\n",
    "import time\n"
   ]
  },
  {
   "cell_type": "code",
   "execution_count": 6,
   "metadata": {},
   "outputs": [],
   "source": [
    "# setting the path of question data base\n",
    "Question_DB = r\"C:\\Users\\ashkans\\Documents\\git\\GAME_database\"\n",
    "\n",
    "# seetin the path for the outputs (question pdf)\n",
    "output_dir = r\"C:\\Users\\ashkans\\Documents\\git\\GAME_test_output\"\n",
    "\n",
    "# the questions are using some helper functions which are located in the path of Question_DB, so they should be accessible:\n",
    "sys.path.append(join(Question_DB))"
   ]
  },
  {
   "cell_type": "code",
   "execution_count": 7,
   "metadata": {},
   "outputs": [],
   "source": [
    "# student id, this could be loaded from a file\n",
    "sid = '00000'\n",
    "\n",
    "# the assignment number, to be shown in the pdfs\n",
    "assignment_num = 1\n",
    "\n",
    "# set the list of question from question database to be used\n",
    "Qlist = ['A1Q1'] \n",
    "\n",
    "# name \n",
    "title = 'Week 1'"
   ]
  },
  {
   "cell_type": "code",
   "execution_count": 4,
   "metadata": {},
   "outputs": [
    {
     "name": "stdout",
     "output_type": "stream",
     "text": [
      "Tex file is generated!\n"
     ]
    }
   ],
   "source": [
    "# maek sure that the output_dir exists and make the output file name\n",
    "A_dir = join(output_dir,'Assignment_%s' % assignment_num)\n",
    "output_path = join(A_dir, 'A%d_%s' % (assignment_num, sid))\n",
    "if not os.path.isdir(output_path):\n",
    "    os.makedirs(output_path)\n",
    "\n",
    "    \n",
    "# initialize the assignment class\n",
    "assignment1 = Assignment(Question_DB, Qlist,name=title ,assignment_num=assignment_num-1)\n",
    "\n",
    "# generate the questions\n",
    "assignment1.generate_question_list()\n",
    "\n",
    "# save input files (is needed for marking)\n",
    "assignment1.save_input_files(output_path)\n",
    "\n",
    "# save save tex file\n",
    "assignment1.make_assignment_pdf(join(output_path,'Assignment%d.pdf'%assignment_num))\n",
    "\n",
    "# save assignment\n",
    "assignment1.save(join(output_path,'Assignment_class.yml'))\n",
    "    "
   ]
  },
  {
   "cell_type": "code",
   "execution_count": 8,
   "metadata": {},
   "outputs": [
    {
     "name": "stdout",
     "output_type": "stream",
     "text": [
      "8.514547109603882\n",
      "8.52629041671753\n",
      "8.469797611236572\n",
      "8.50072193145752\n",
      "8.441819667816162\n",
      "8.43777585029602\n",
      "8.477304935455322\n",
      "8.472382307052612\n",
      "8.488683700561523\n",
      "8.42254376411438\n",
      "8.447624444961548\n",
      "8.422748327255249\n",
      "8.475480794906616\n",
      "8.662810802459717\n",
      "8.538779497146606\n",
      "8.497223377227783\n",
      "8.421800136566162\n",
      "8.452518701553345\n",
      "8.488808393478394\n",
      "8.441416501998901\n",
      "8.462727785110474\n",
      "8.494467973709106\n",
      "8.419902563095093\n",
      "8.483786344528198\n",
      "8.437385559082031\n",
      "8.4751718044281\n",
      "8.443108320236206\n",
      "8.44218397140503\n",
      "8.478981733322144\n",
      "8.431442022323608\n",
      "8.466301918029785\n",
      "8.480874300003052\n",
      "8.48332166671753\n",
      "8.439095973968506\n",
      "8.476337432861328\n",
      "8.45036792755127\n",
      "8.446676015853882\n",
      "8.483451128005981\n",
      "8.476900577545166\n",
      "8.428658246994019\n",
      "8.478193759918213\n",
      "8.499154567718506\n",
      "8.465265989303589\n",
      "8.465631246566772\n",
      "8.506548404693604\n",
      "8.493542909622192\n",
      "8.468412637710571\n",
      "8.441847801208496\n",
      "8.480495929718018\n",
      "8.470412969589233\n",
      "8.595262050628662\n",
      "8.620367765426636\n",
      "8.675851583480835\n",
      "8.517037391662598\n",
      "12.378019332885742\n",
      "7.894363880157471\n",
      "7.798323631286621\n",
      "7.63317608833313\n",
      "7.593818187713623\n",
      "7.598390102386475\n",
      "7.549230575561523\n",
      "7.892168045043945\n",
      "8.516672611236572\n",
      "8.502070903778076\n",
      "8.43578839302063\n",
      "8.524630308151245\n",
      "8.5023832321167\n",
      "8.57438588142395\n",
      "8.47066617012024\n",
      "8.514648199081421\n",
      "8.527350902557373\n",
      "8.612776041030884\n",
      "8.537898063659668\n",
      "8.55652141571045\n",
      "8.508517742156982\n",
      "8.488967895507812\n",
      "8.471654176712036\n",
      "8.566270589828491\n",
      "8.56009292602539\n",
      "8.476916313171387\n",
      "8.758094549179077\n",
      "8.9546377658844\n",
      "10.206118106842041\n",
      "7.5540525913238525\n",
      "7.614430904388428\n",
      "7.579527378082275\n",
      "7.551049470901489\n",
      "7.537726163864136\n",
      "7.667237758636475\n",
      "7.705760955810547\n",
      "8.572195529937744\n",
      "8.487265586853027\n",
      "8.568677186965942\n",
      "8.48481559753418\n",
      "8.490476369857788\n",
      "8.50328779220581\n",
      "8.47841215133667\n",
      "8.521970272064209\n",
      "8.53020167350769\n",
      "8.452271223068237\n"
     ]
    }
   ],
   "source": [
    "assignment_num = 9\n",
    "\n",
    "for sid in range(100):\n",
    "    t = time.time()\n",
    "    A_dir = join(output_dir,'Assignment_%s' % assignment_num)\n",
    "    output_path = join(A_dir, 'A%d_%s' % (assignment_num, sid))\n",
    "    if not os.path.isdir(output_path):\n",
    "        pass\n",
    "        #os.makedirs(output_path)\n",
    "\n",
    "    assignment1 = Assignment(Question_DB, assignmentTexFile=\"Colin\")\n",
    "    \n",
    "    assignment1.compilers = ['pdflatex', 'python \\\"C:\\Program Files\\MiKTeX 2.9\\scripts\\pythontex\\pythontex.py\\\"' , 'pdflatex']\n",
    "\n",
    "    assignment1.make_assignment_pdf_from_tex_file(join(output_path,'Assignment%d.pdf'%assignment_num))\n",
    "    print(time.time() - t)"
   ]
  },
  {
   "cell_type": "code",
   "execution_count": 16,
   "metadata": {},
   "outputs": [],
   "source": []
  },
  {
   "cell_type": "code",
   "execution_count": 19,
   "metadata": {},
   "outputs": [],
   "source": []
  },
  {
   "cell_type": "code",
   "execution_count": 20,
   "metadata": {},
   "outputs": [
    {
     "data": {
      "text/plain": [
       "{'I': 3.75e-05,\n",
       " 'J': 7.5e-05,\n",
       " 'E': 200000.0,\n",
       " 'G': 80000.0,\n",
       " 'L': 4.0,\n",
       " 'M': -30,\n",
       " 'D': array([-0.00210526,  0.00105263,  0.00105263]),\n",
       " 'Fcd': array([  0.        , -11.84210526,   0.        ,   0.        ]),\n",
       " 'Fce': array([-3.15789474,  0.        ,  3.15789474,  0.        ]),\n",
       " 'Fcf': array([  0.        , -11.84210526,   0.        ,   0.        ]),\n",
       " 'Fgc': array([ 3.15789474,  0.        , -3.15789474,  0.        ]),\n",
       " 'Fcg': array([-3.15789474,  0.        ,  3.15789474,  0.        ]),\n",
       " 'bmd_scale': 8,\n",
       " 'tmd_scale': 5}"
      ]
     },
     "execution_count": 20,
     "metadata": {},
     "output_type": "execute_result"
    }
   ],
   "source": [
    "input_maker('')"
   ]
  },
  {
   "cell_type": "code",
   "execution_count": null,
   "metadata": {},
   "outputs": [],
   "source": []
  }
 ],
 "metadata": {
  "kernelspec": {
   "display_name": "Python 3",
   "language": "python",
   "name": "python3"
  },
  "language_info": {
   "codemirror_mode": {
    "name": "ipython",
    "version": 3
   },
   "file_extension": ".py",
   "mimetype": "text/x-python",
   "name": "python",
   "nbconvert_exporter": "python",
   "pygments_lexer": "ipython3",
   "version": "3.7.4"
  }
 },
 "nbformat": 4,
 "nbformat_minor": 2
}
