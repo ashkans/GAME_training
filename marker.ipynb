{
 "cells": [
  {
   "cell_type": "code",
   "execution_count": 2,
   "metadata": {},
   "outputs": [],
   "source": [
    "from GAME.assignment import  load_assignment\n",
    "from os.path import join\n",
    "import sys"
   ]
  },
  {
   "cell_type": "code",
   "execution_count": 3,
   "metadata": {},
   "outputs": [],
   "source": [
    "# setting the path of question data base\n",
    "Question_DB = r\"C:\\Users\\ashkans\\Documents\\git\\GAME_database\"\n",
    "\n",
    "# seetin the path for the outputs (question pdf)\n",
    "output_dir = r\"C:\\Users\\ashkans\\Documents\\git\\GAME_test_output\"\n",
    "\n",
    "# the questions are using some helper functions which are located in the path of Question_DB, so they should be accessible:\n",
    "sys.path.append(join(Question_DB))"
   ]
  },
  {
   "cell_type": "code",
   "execution_count": 4,
   "metadata": {},
   "outputs": [],
   "source": [
    "# student id, this could be loaded from a file\n",
    "sid = '00000'\n",
    "\n",
    "# the assignment number, to be shown in the pdfs\n",
    "assignment_num = 1\n",
    "\n",
    "\n",
    "# name \n",
    "title = 'Week 1'"
   ]
  },
  {
   "cell_type": "code",
   "execution_count": 6,
   "metadata": {},
   "outputs": [
    {
     "name": "stdout",
     "output_type": "stream",
     "text": [
      "Tex file is generated!\n"
     ]
    }
   ],
   "source": [
    "A_dir = join(output_dir,'Assignment_%s' % assignment_num)\n",
    "output_path = join(A_dir, 'A%d_%s' % (assignment_num, sid))\n",
    "\n",
    "#load assignment\n",
    "assignment = load_assignment(join(output_path, 'Assignment_class.yml'))\n",
    "\n",
    "# results path\n",
    "resutls_path = []\n",
    "\n",
    "# load the inputs\n",
    "for q in assignment.questions:\n",
    "    q.text.inputs = q.marking.input_loader(join(output_path,'%s_input.csv' % q.qid))\n",
    "    resutls_path.append(join(output_path,'%s_answer.xlsx' % q.qid))\n",
    "\n",
    "# get feedback and mark\n",
    "assignment.mark_and_get_feedbacks(resutls_path)\n",
    "\n",
    "# write the feedback file\n",
    "#assignment.write_feedback_file(join(output_path,'feedback.tex'), name=title ,assignment_num=assignment_num-1)\n",
    "assignment.make_feedback_pdf(join(output_path,'feedback.pdf'), name=title ,assignment_num=assignment_num-1)"
   ]
  },
  {
   "cell_type": "code",
   "execution_count": null,
   "metadata": {},
   "outputs": [],
   "source": []
  }
 ],
 "metadata": {
  "kernelspec": {
   "display_name": "Python 3",
   "language": "python",
   "name": "python3"
  },
  "language_info": {
   "codemirror_mode": {
    "name": "ipython",
    "version": 3
   },
   "file_extension": ".py",
   "mimetype": "text/x-python",
   "name": "python",
   "nbconvert_exporter": "python",
   "pygments_lexer": "ipython3",
   "version": "3.7.4"
  }
 },
 "nbformat": 4,
 "nbformat_minor": 2
}
