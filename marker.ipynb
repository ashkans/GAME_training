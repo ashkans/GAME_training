{
 "cells": [
  {
   "cell_type": "code",
   "execution_count": 6,
   "metadata": {},
   "outputs": [],
   "source": [
    "import sys"
   ]
  },
  {
   "cell_type": "code",
   "execution_count": 7,
   "metadata": {},
   "outputs": [],
   "source": [
    "settingsFile = sys.argv[0]\n",
    "settingsFile = r'settings/settings.yaml'"
   ]
  },
  {
   "cell_type": "code",
   "execution_count": 8,
   "metadata": {},
   "outputs": [],
   "source": [
    "from GAME.assignment import  load_assignment\n",
    "from os.path import join\n",
    "import csv\n",
    "import pandas as pd\n",
    "from GAME.fileNameManager import FileNameManager\n",
    "import yaml"
   ]
  },
  {
   "cell_type": "code",
   "execution_count": 10,
   "metadata": {},
   "outputs": [
    {
     "name": "stderr",
     "output_type": "stream",
     "text": [
      "C:\\Users\\ashkans\\AppData\\Local\\Continuum\\anaconda3\\envs\\unit_dev\\lib\\site-packages\\ipykernel_launcher.py:2: YAMLLoadWarning: calling yaml.load() without Loader=... is deprecated, as the default Loader is unsafe. Please read https://msg.pyyaml.org/load for full details.\n",
      "  \n"
     ]
    }
   ],
   "source": [
    "with open(settingsFile, 'r') as file:\n",
    "    settings = yaml.load(file)\n",
    "    \n",
    "# setting the path of question data base\n",
    "questionDataBase = settings['questionDataBase']\n",
    "# seetin the path for the outputs (question pdf)\n",
    "outputDirectory = settings['outputDirectory']\n",
    "# the assignment number, to be shown in the pdfs\n",
    "assignmentNum = settings['assignmentNum']\n",
    "# name \n",
    "title = settings['assignmnetTitle']\n",
    "\n",
    "with open(settings['studentIDListFile']) as csvfile:\n",
    "    readCSV = csv.reader(csvfile, delimiter=',')\n",
    "    studentIDList = [r[0] for r in readCSV]\n",
    "\n",
    "# the questions are using some helper functions which are located in the path of Question_DB, so they should be accessible:\n",
    "sys.path.append(join(questionDataBase))"
   ]
  },
  {
   "cell_type": "code",
   "execution_count": 11,
   "metadata": {},
   "outputs": [
    {
     "name": "stderr",
     "output_type": "stream",
     "text": [
      "c:\\users\\ashkans\\documents\\git\\game\\GAME\\assignment.py:22: YAMLLoadWarning: calling yaml.load() without Loader=... is deprecated, as the default Loader is unsafe. Please read https://msg.pyyaml.org/load for full details.\n",
      "  assign = yaml.load(file)\n"
     ]
    },
    {
     "name": "stdout",
     "output_type": "stream",
     "text": [
      "Tex file is generated!\n",
      "Tex file is generated!\n",
      "Tex file is generated!\n",
      "Tex file is generated!\n",
      "Tex file is generated!\n",
      "Tex file is generated!\n",
      "Tex file is generated!\n",
      "Tex file is generated!\n",
      "Tex file is generated!\n",
      "Tex file is generated!\n"
     ]
    }
   ],
   "source": [
    "A_dir = join(outputDirectory,'Assignment_%s' % assignmentNum)\n",
    "\n",
    "for studentID in studentIDList:\n",
    "    output_path = join(A_dir, 'A%d_%s' % (assignmentNum, studentID))\n",
    "    #load assignment\n",
    "    assignment = load_assignment(join(output_path, 'Assignment_class.yml'))\n",
    "\n",
    "    # results path\n",
    "    resutls_path = []\n",
    "\n",
    "    # load the inputs\n",
    "    for q in assignment.questions:\n",
    "        fnm = FileNameManager(studentID, assignmentNum, q.qid)\n",
    "        q.text.inputs = q.marking.input_loader(join(output_path,fnm.getInputFileName()))\n",
    "        resutls_path.append(join(output_path,fnm.getAnswerFileName()))\n",
    "\n",
    "    # get feedback and mark\n",
    "    assignment.mark_and_get_feedbacks(resutls_path)\n",
    "\n",
    "    # write the feedback file\n",
    "    assignment.make_feedback_pdf(join(output_path,fnm.feedbackFileName()), name=title ,assignment_num=assignmentNum-1)"
   ]
  },
  {
   "cell_type": "code",
   "execution_count": null,
   "metadata": {},
   "outputs": [],
   "source": []
  }
 ],
 "metadata": {
  "kernelspec": {
   "display_name": "Python 3",
   "language": "python",
   "name": "python3"
  },
  "language_info": {
   "codemirror_mode": {
    "name": "ipython",
    "version": 3
   },
   "file_extension": ".py",
   "mimetype": "text/x-python",
   "name": "python",
   "nbconvert_exporter": "python",
   "pygments_lexer": "ipython3",
   "version": "3.7.6"
  }
 },
 "nbformat": 4,
 "nbformat_minor": 2
}
