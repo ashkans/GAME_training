{
 "cells": [
  {
   "cell_type": "code",
   "execution_count": 84,
   "metadata": {},
   "outputs": [
    {
     "data": {
      "text/plain": [
       "{'distrbiutiontype': 'Z',\n",
       " 'mean': 3.0,\n",
       " 'q1_p': 1.0,\n",
       " 'q1_p1': 1.0,\n",
       " 'q1_p2': 1.0,\n",
       " 'q1_probability_type': 'P(x<a)',\n",
       " 'q1_z1': 1.0,\n",
       " 'q1_z2': 1.0,\n",
       " 'q2_p': 1.0,\n",
       " 'q2_p1': 1.0,\n",
       " 'q2_p2': 1.0,\n",
       " 'q2_probability_type': 'P(x<a)',\n",
       " 'q2_z1': 1.0,\n",
       " 'q2_z2': 1.0,\n",
       " 'q3_p': 1.0,\n",
       " 'q3_p1': 1.0,\n",
       " 'q3_p2': 1.0,\n",
       " 'q3_probability_type': 'P(x<a)',\n",
       " 'q3_z1': 1.0,\n",
       " 'q3_z2': 1.0,\n",
       " 'standarddeviation': 1.0}"
      ]
     },
     "execution_count": 84,
     "metadata": {},
     "output_type": "execute_result"
    }
   ],
   "source": [
    "import pandas as pd\n",
    "r_fn = r\"C:\\Users\\ashkans\\Documents\\git\\GAME_output\\Assignment_4\\A4_12809\\answer_12809_A4_A4Q1.xlsx\"\n",
    "\n",
    "\n",
    "    \n",
    "results    "
   ]
  },
  {
   "cell_type": "code",
   "execution_count": 63,
   "metadata": {},
   "outputs": [],
   "source": [
    "#name, elementType, location, title, options=None"
   ]
  },
  {
   "cell_type": "code",
   "execution_count": 70,
   "metadata": {},
   "outputs": [],
   "source": [
    "from GAME.utiles import GuiStructure\n",
    "savingPAth = r'C:\\Users\\ashkans\\Documents\\git\\GAME_database\\A4Q3\\result_maker\\structure.yaml'\n",
    "gui = GuiStructure()\n",
    "row = 0\n",
    "gui.addElement('vl1', 'vl', [row,0], 'vl1',options=[10],withTitle=False)\n",
    "row = 1\n",
    "gui.addElement('mean', 'textBox', [1,3], 'Mean')\n",
    "gui.addElement('standarddeviation', 'textBox', [1,5], 'Standard deviation')\n",
    "gui.addElement('distrbiutiontype', 'dropDown', [1,1], 'Distrbiution type',options=['Z','t-student'])\n",
    "gui.addElement('mean', 'textBox', [1,3], 'Mean')\n",
    "gui.addElement('standarddeviation', 'textBox', [1,5], 'Standard deviation')\n",
    "row = 2\n",
    "gui.addElement('vl2', 'vl', [row,0], 'vl2',options=[10],withTitle=False)\n",
    "row = 3\n",
    "for i in range(1, 3):\n",
    "    col = 2*i-1\n",
    "    \n",
    "    #gui.addElement(f'q{i}_probability_type', 'dropDown', [row,col], f'Q{i} probability type',options=['P(x<a)', 'P(x>a)', 'P(x=a)','P(a<x<b)'])\n",
    "    gui.addElement(f'q{i}_confidenceLevel', 'textBox', [row+1,col], f'Q{i} confidence Level', withTitle=True)\n",
    "    gui.addElement(f'q{i}_zort', 'textBox', [row+2,col], f'Q{i} z/t', withTitle=True)\n",
    "    gui.addElement(f'q{i}_lb', 'textBox', [row+3,col], f'Q{i} lower bound', withTitle=True)\n",
    "    gui.addElement(f'q{i}_ub', 'textBox', [row+4,col], f'Q{i} upper bound', withTitle=True)\n",
    "    \n",
    "    \n",
    "\n",
    "for i in [3]:\n",
    "    col = 2*i-1\n",
    "    #gui.addElement(f'q{i}_probability_type', 'dropDown', [row,col], f'Q{i} probability type',options=['P(x<a)', 'P(x>a)', 'P(x=a)','P(a<x<b)'])\n",
    "    \n",
    "    gui.addElement(f'q{i}_lb', 'textBox', [row+1,col], f'Q{i} lower bound', withTitle=True)\n",
    "    gui.addElement(f'q{i}_ub', 'textBox', [row+2,col], f'Q{i} upper bound', withTitle=True)\n",
    "    \n",
    "    gui.addElement(f'q{i}_lowerzort', 'textBox', [row+3,col], f'Q{i} lower z/t', withTitle=True)\n",
    "    gui.addElement(f'q{i}_upperzort', 'textBox', [row+4,col], f'Q{i} upper z/t', withTitle=True)    \n",
    "    \n",
    "    gui.addElement(f'q{i}_confidenceLevel', 'textBox', [row+5,col], f'Q{i} confidence Level', withTitle=True)\n",
    "    \n",
    "\n",
    "for i in [4]:\n",
    "    col = 2*i-1\n",
    "\n",
    "    #gui.addElement(f'q{i}_probability_type', 'dropDown', [row,col], f'Q{i} probability type',options=['P(x<a)', 'P(x>a)', 'P(x=a)','P(a<x<b)'])    \n",
    "    gui.addElement(f'q{i}_e', 'textBox', [row+1,col], f'Q{i} error', withTitle=True)\n",
    "    gui.addElement(f'q{i}_confidenceLevel', 'textBox', [row+5,col], f'Q{i} confidence Level', withTitle=True)\n",
    "    gui.addElement(f'q{i}_zort', 'textBox', [row+3,col], f'Q{i} lower z/t', withTitle=True)\n",
    "    gui.addElement(f'q{i}_n', 'textBox', [row+2,col], f'Q{i} n', withTitle=True)\n",
    "    \n",
    "    \n",
    "gui.save(savingPAth)"
   ]
  },
  {
   "cell_type": "code",
   "execution_count": null,
   "metadata": {},
   "outputs": [],
   "source": []
  },
  {
   "cell_type": "code",
   "execution_count": 57,
   "metadata": {},
   "outputs": [],
   "source": [
    "s = gui.load(savingPAth)"
   ]
  },
  {
   "cell_type": "code",
   "execution_count": 62,
   "metadata": {},
   "outputs": [
    {
     "data": {
      "text/plain": [
       "dict_keys(['distrbiutiontype', 'mean', 'q1_p', 'q1_p1', 'q1_p2', 'q1_probability_type', 'q1_z1', 'q1_z2', 'q2_p', 'q2_p1', 'q2_p2', 'q2_probability_type', 'q2_z1', 'q2_z2', 'q3_p', 'q3_p1', 'q3_p2', 'q3_probability_type', 'q3_z1', 'q3_z2', 'standarddeviation', 'vl1', 'vl2'])"
      ]
     },
     "execution_count": 62,
     "metadata": {},
     "output_type": "execute_result"
    }
   ],
   "source": [
    "s.keys()\n"
   ]
  },
  {
   "cell_type": "code",
   "execution_count": null,
   "metadata": {},
   "outputs": [],
   "source": [
    "\n",
    "Part 1 z or t\n",
    "Part 1 lower bound\n",
    "Part 1 upper bound\n",
    "Part 2 confidence level\n",
    "Part 2 z or t\n",
    "Part 2 lower bound\n",
    "Part 2 upper bound\n",
    "Part 3 lower bound\n",
    "Part 3 upper bound\n",
    "Part 3 lower z or t\n",
    "Part 3 upper z or t\n",
    "Part 3 Confidence level\n",
    "Part 4 E\n",
    "Part 4 confidence level\n",
    "Part 4 z or t\n",
    "Part 4 n\n"
   ]
  }
 ],
 "metadata": {
  "kernelspec": {
   "display_name": "Python 3",
   "language": "python",
   "name": "python3"
  },
  "language_info": {
   "codemirror_mode": {
    "name": "ipython",
    "version": 3
   },
   "file_extension": ".py",
   "mimetype": "text/x-python",
   "name": "python",
   "nbconvert_exporter": "python",
   "pygments_lexer": "ipython3",
   "version": "3.7.6"
  }
 },
 "nbformat": 4,
 "nbformat_minor": 4
}
